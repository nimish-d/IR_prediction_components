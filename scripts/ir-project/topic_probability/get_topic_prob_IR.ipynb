{
 "cells": [
  {
   "cell_type": "code",
   "execution_count": 1,
   "metadata": {},
   "outputs": [],
   "source": [
    "import numpy as np\n",
    "import pandas as pd\n",
    "from topic_prob import TopicProb"
   ]
  },
  {
   "cell_type": "code",
   "execution_count": 2,
   "metadata": {},
   "outputs": [],
   "source": [
    "df_original = pd.read_parquet('/mnt/ihxaidata01/nimishd/IR/results/seed_63498534/IRMasterRevised_with_topics.parquet')\n",
    "len(df_original)\n",
    "\n",
    "df = df_original.copy(deep=False)\n",
    "# df.reset_index(drop=True, inplace=True)\n",
    "df['ICD'] = df['FieldValue'].apply(lambda x: str(x)[:3])\n",
    "# df = df.iloc[0:100]"
   ]
  },
  {
   "cell_type": "code",
   "execution_count": 3,
   "metadata": {},
   "outputs": [
    {
     "data": {
      "text/plain": [
       "PayerId\n",
       "516572    337393\n",
       "524799       666\n",
       "524800         9\n",
       "523850         1\n",
       "Name: count, dtype: int64"
      ]
     },
     "execution_count": 3,
     "metadata": {},
     "output_type": "execute_result"
    }
   ],
   "source": [
    "df_original['PayerId'].value_counts()"
   ]
  },
  {
   "cell_type": "code",
   "execution_count": 4,
   "metadata": {},
   "outputs": [
    {
     "name": "stdout",
     "output_type": "stream",
     "text": [
      "Length of df before dropping selected topics: 338069\n",
      "Length of df after dropping selected topics: 235042\n"
     ]
    }
   ],
   "source": [
    "tp = TopicProb(df, list(range(84)))"
   ]
  },
  {
   "cell_type": "code",
   "execution_count": 5,
   "metadata": {},
   "outputs": [
    {
     "name": "stdout",
     "output_type": "stream",
     "text": [
      "dropped 54 fields\n",
      "Total number of rows in the resulting table: 7430\n",
      "('PayerId',) [] <itertools.product object at 0x7fcfb1721740>\n",
      "('ICD',) [] <itertools.product object at 0x7fcfb1721980>\n",
      "('PayerId', 'ICD') [] <itertools.product object at 0x7fcfb6577ac0>\n",
      "counter 7429\n"
     ]
    }
   ],
   "source": [
    "filter_list = ['PayerId', 'ICD']\n",
    "tp.select_fields(filter_list)\n",
    "tp.run_filters()"
   ]
  },
  {
   "cell_type": "code",
   "execution_count": 7,
   "metadata": {},
   "outputs": [
    {
     "data": {
      "text/html": [
       "<div>\n",
       "<style scoped>\n",
       "    .dataframe tbody tr th:only-of-type {\n",
       "        vertical-align: middle;\n",
       "    }\n",
       "\n",
       "    .dataframe tbody tr th {\n",
       "        vertical-align: top;\n",
       "    }\n",
       "\n",
       "    .dataframe thead th {\n",
       "        text-align: right;\n",
       "    }\n",
       "</style>\n",
       "<table border=\"1\" class=\"dataframe\">\n",
       "  <thead>\n",
       "    <tr style=\"text-align: right;\">\n",
       "      <th></th>\n",
       "      <th>PayerId</th>\n",
       "      <th>ICD</th>\n",
       "      <th>length</th>\n",
       "      <th>TopicProbability</th>\n",
       "    </tr>\n",
       "  </thead>\n",
       "  <tbody>\n",
       "    <tr>\n",
       "      <th>0</th>\n",
       "      <td>516572</td>\n",
       "      <td>ALL</td>\n",
       "      <td>234643</td>\n",
       "      <td>[0.1457874302664047, 0.02597989285851272, 0.00...</td>\n",
       "    </tr>\n",
       "    <tr>\n",
       "      <th>1</th>\n",
       "      <td>524800</td>\n",
       "      <td>ALL</td>\n",
       "      <td>6</td>\n",
       "      <td>[0.16666666666666666, 0.0, 0.0, 0.0, 0.0, 0.0,...</td>\n",
       "    </tr>\n",
       "    <tr>\n",
       "      <th>2</th>\n",
       "      <td>524799</td>\n",
       "      <td>ALL</td>\n",
       "      <td>392</td>\n",
       "      <td>[0.025510204081632654, 0.0, 0.0102040816326530...</td>\n",
       "    </tr>\n",
       "    <tr>\n",
       "      <th>3</th>\n",
       "      <td>523850</td>\n",
       "      <td>ALL</td>\n",
       "      <td>1</td>\n",
       "      <td>[0.0, 0.0, 0.0, 0.0, 0.0, 1.0, 0.0, 0.0, 0.0, ...</td>\n",
       "    </tr>\n",
       "    <tr>\n",
       "      <th>4</th>\n",
       "      <td>ALL</td>\n",
       "      <td>G40</td>\n",
       "      <td>1236</td>\n",
       "      <td>[0.13592233009708737, 0.015372168284789644, 0....</td>\n",
       "    </tr>\n",
       "    <tr>\n",
       "      <th>...</th>\n",
       "      <td>...</td>\n",
       "      <td>...</td>\n",
       "      <td>...</td>\n",
       "      <td>...</td>\n",
       "    </tr>\n",
       "    <tr>\n",
       "      <th>3107</th>\n",
       "      <td>524799</td>\n",
       "      <td>I97</td>\n",
       "      <td>1</td>\n",
       "      <td>[0.0, 0.0, 0.0, 0.0, 0.0, 0.0, 0.0, 0.0, 0.0, ...</td>\n",
       "    </tr>\n",
       "    <tr>\n",
       "      <th>3108</th>\n",
       "      <td>524799</td>\n",
       "      <td>P81</td>\n",
       "      <td>1</td>\n",
       "      <td>[0.0, 0.0, 0.0, 0.0, 0.0, 0.0, 0.0, 0.0, 0.0, ...</td>\n",
       "    </tr>\n",
       "    <tr>\n",
       "      <th>3109</th>\n",
       "      <td>524799</td>\n",
       "      <td>R54</td>\n",
       "      <td>1</td>\n",
       "      <td>[0.0, 0.0, 0.0, 0.0, 0.0, 0.0, 0.0, 0.0, 0.0, ...</td>\n",
       "    </tr>\n",
       "    <tr>\n",
       "      <th>3110</th>\n",
       "      <td>524799</td>\n",
       "      <td>B26</td>\n",
       "      <td>1</td>\n",
       "      <td>[0.0, 0.0, 0.0, 0.0, 0.0, 0.0, 0.0, 0.0, 0.0, ...</td>\n",
       "    </tr>\n",
       "    <tr>\n",
       "      <th>3111</th>\n",
       "      <td>523850</td>\n",
       "      <td>R10</td>\n",
       "      <td>1</td>\n",
       "      <td>[0.0, 0.0, 0.0, 0.0, 0.0, 1.0, 0.0, 0.0, 0.0, ...</td>\n",
       "    </tr>\n",
       "  </tbody>\n",
       "</table>\n",
       "<p>3112 rows × 4 columns</p>\n",
       "</div>"
      ],
      "text/plain": [
       "     PayerId  ICD  length                                   TopicProbability\n",
       "0     516572  ALL  234643  [0.1457874302664047, 0.02597989285851272, 0.00...\n",
       "1     524800  ALL       6  [0.16666666666666666, 0.0, 0.0, 0.0, 0.0, 0.0,...\n",
       "2     524799  ALL     392  [0.025510204081632654, 0.0, 0.0102040816326530...\n",
       "3     523850  ALL       1  [0.0, 0.0, 0.0, 0.0, 0.0, 1.0, 0.0, 0.0, 0.0, ...\n",
       "4        ALL  G40    1236  [0.13592233009708737, 0.015372168284789644, 0....\n",
       "...      ...  ...     ...                                                ...\n",
       "3107  524799  I97       1  [0.0, 0.0, 0.0, 0.0, 0.0, 0.0, 0.0, 0.0, 0.0, ...\n",
       "3108  524799  P81       1  [0.0, 0.0, 0.0, 0.0, 0.0, 0.0, 0.0, 0.0, 0.0, ...\n",
       "3109  524799  R54       1  [0.0, 0.0, 0.0, 0.0, 0.0, 0.0, 0.0, 0.0, 0.0, ...\n",
       "3110  524799  B26       1  [0.0, 0.0, 0.0, 0.0, 0.0, 0.0, 0.0, 0.0, 0.0, ...\n",
       "3111  523850  R10       1  [0.0, 0.0, 0.0, 0.0, 0.0, 1.0, 0.0, 0.0, 0.0, ...\n",
       "\n",
       "[3112 rows x 4 columns]"
      ]
     },
     "execution_count": 7,
     "metadata": {},
     "output_type": "execute_result"
    }
   ],
   "source": [
    "tp.topic_probability_df"
   ]
  }
 ],
 "metadata": {
  "kernelspec": {
   "display_name": "bertopic",
   "language": "python",
   "name": "python3"
  },
  "language_info": {
   "codemirror_mode": {
    "name": "ipython",
    "version": 3
   },
   "file_extension": ".py",
   "mimetype": "text/x-python",
   "name": "python",
   "nbconvert_exporter": "python",
   "pygments_lexer": "ipython3",
   "version": "3.8.17"
  },
  "orig_nbformat": 4
 },
 "nbformat": 4,
 "nbformat_minor": 2
}
