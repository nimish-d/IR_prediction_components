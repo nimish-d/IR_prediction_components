{
 "cells": [
  {
   "cell_type": "code",
   "execution_count": 1,
   "metadata": {},
   "outputs": [],
   "source": [
    "import numpy as np\n",
    "import pandas as pd"
   ]
  },
  {
   "cell_type": "code",
   "execution_count": 2,
   "metadata": {},
   "outputs": [],
   "source": [
    "actions_df = pd.read_csv('actions_list.csv')"
   ]
  },
  {
   "cell_type": "code",
   "execution_count": 3,
   "metadata": {},
   "outputs": [],
   "source": [
    "unique_actions = actions_df['Action'].apply(lambda x: str(x).lower()).value_counts()"
   ]
  },
  {
   "cell_type": "code",
   "execution_count": 4,
   "metadata": {},
   "outputs": [],
   "source": [
    "unique_actions_df = unique_actions.to_frame().reset_index()\n",
    "unique_actions_df['ActionID'] = range(len(unique_actions_df))"
   ]
  },
  {
   "cell_type": "code",
   "execution_count": 5,
   "metadata": {},
   "outputs": [],
   "source": [
    "unique_actions_df.to_csv('unique_actions.csv', index=False)"
   ]
  },
  {
   "cell_type": "code",
   "execution_count": 6,
   "metadata": {},
   "outputs": [],
   "source": [
    "# create a dictionary with actions mapping to an index\n",
    "index_action_dict = {key: idx for idx, key in enumerate(unique_actions.index)}\n",
    "# action_index_dict = {idx: key for }\n",
    "nactions = len(index_action_dict)\n",
    "\n",
    "# dictionary with index-action mapping\n",
    "action_index_dict = {index_action_dict[key]: key for key in index_action_dict.keys()}\n",
    "\n",
    "action_index_list = [{'Action ID': key, 'Action': action_index_dict[key]} for key in action_index_dict.keys()]\n",
    "\n",
    "action_index_df = pd.DataFrame(action_index_list)\n",
    "\n",
    "action_index_df.to_csv('index_to_action_lookup.csv', index=False)"
   ]
  },
  {
   "cell_type": "code",
   "execution_count": 7,
   "metadata": {},
   "outputs": [],
   "source": [
    "def get_action_index(action):\n",
    "    cleaned_action = str(action).lower()\n",
    "    try:\n",
    "        idx = index_action_dict[cleaned_action]\n",
    "    except:\n",
    "        idx = -10000\n",
    "    return idx"
   ]
  },
  {
   "cell_type": "code",
   "execution_count": 8,
   "metadata": {},
   "outputs": [],
   "source": [
    "expanded_topic_rep_df = pd.read_csv('expanded_topic_representations_63498534_cleaned.csv')"
   ]
  },
  {
   "cell_type": "code",
   "execution_count": 9,
   "metadata": {},
   "outputs": [
    {
     "data": {
      "text/html": [
       "<div>\n",
       "<style scoped>\n",
       "    .dataframe tbody tr th:only-of-type {\n",
       "        vertical-align: middle;\n",
       "    }\n",
       "\n",
       "    .dataframe tbody tr th {\n",
       "        vertical-align: top;\n",
       "    }\n",
       "\n",
       "    .dataframe thead th {\n",
       "        text-align: right;\n",
       "    }\n",
       "</style>\n",
       "<table border=\"1\" class=\"dataframe\">\n",
       "  <thead>\n",
       "    <tr style=\"text-align: right;\">\n",
       "      <th></th>\n",
       "      <th>topic</th>\n",
       "      <th>rep_idx</th>\n",
       "      <th>rep_ctfidf</th>\n",
       "      <th>rep_string</th>\n",
       "      <th>Count</th>\n",
       "      <th>Action</th>\n",
       "      <th>ActionID</th>\n",
       "    </tr>\n",
       "  </thead>\n",
       "  <tbody>\n",
       "    <tr>\n",
       "      <th>0</th>\n",
       "      <td>-1</td>\n",
       "      <td>0</td>\n",
       "      <td>0.0964</td>\n",
       "      <td>physical document</td>\n",
       "      <td>11</td>\n",
       "      <td>NaN</td>\n",
       "      <td>-10000</td>\n",
       "    </tr>\n",
       "    <tr>\n",
       "      <th>1</th>\n",
       "      <td>-1</td>\n",
       "      <td>1</td>\n",
       "      <td>0.0964</td>\n",
       "      <td>physical</td>\n",
       "      <td>1</td>\n",
       "      <td>NaN</td>\n",
       "      <td>-10000</td>\n",
       "    </tr>\n",
       "    <tr>\n",
       "      <th>2</th>\n",
       "      <td>-1</td>\n",
       "      <td>2</td>\n",
       "      <td>0.0959</td>\n",
       "      <td>remarks provide revised medical</td>\n",
       "      <td>1</td>\n",
       "      <td>Ensure you have provided bill as per the agree...</td>\n",
       "      <td>59</td>\n",
       "    </tr>\n",
       "    <tr>\n",
       "      <th>3</th>\n",
       "      <td>-1</td>\n",
       "      <td>3</td>\n",
       "      <td>0.0959</td>\n",
       "      <td>remarks provide revised</td>\n",
       "      <td>1</td>\n",
       "      <td>NaN</td>\n",
       "      <td>-10000</td>\n",
       "    </tr>\n",
       "    <tr>\n",
       "      <th>4</th>\n",
       "      <td>-1</td>\n",
       "      <td>4</td>\n",
       "      <td>0.0938</td>\n",
       "      <td>provide revised medical agreed</td>\n",
       "      <td>1</td>\n",
       "      <td>Ensure you have provided bill as per the agree...</td>\n",
       "      <td>59</td>\n",
       "    </tr>\n",
       "    <tr>\n",
       "      <th>...</th>\n",
       "      <td>...</td>\n",
       "      <td>...</td>\n",
       "      <td>...</td>\n",
       "      <td>...</td>\n",
       "      <td>...</td>\n",
       "      <td>...</td>\n",
       "      <td>...</td>\n",
       "    </tr>\n",
       "    <tr>\n",
       "      <th>1695</th>\n",
       "      <td>83</td>\n",
       "      <td>15</td>\n",
       "      <td>0.5975</td>\n",
       "      <td>xerox</td>\n",
       "      <td>1</td>\n",
       "      <td>NaN</td>\n",
       "      <td>-10000</td>\n",
       "    </tr>\n",
       "    <tr>\n",
       "      <th>1696</th>\n",
       "      <td>83</td>\n",
       "      <td>16</td>\n",
       "      <td>0.5957</td>\n",
       "      <td>ir provide</td>\n",
       "      <td>1</td>\n",
       "      <td>NaN</td>\n",
       "      <td>-10000</td>\n",
       "    </tr>\n",
       "    <tr>\n",
       "      <th>1697</th>\n",
       "      <td>83</td>\n",
       "      <td>17</td>\n",
       "      <td>0.5929</td>\n",
       "      <td>ir provide complete</td>\n",
       "      <td>1</td>\n",
       "      <td>NaN</td>\n",
       "      <td>-10000</td>\n",
       "    </tr>\n",
       "    <tr>\n",
       "      <th>1698</th>\n",
       "      <td>83</td>\n",
       "      <td>18</td>\n",
       "      <td>0.5871</td>\n",
       "      <td>ir</td>\n",
       "      <td>1</td>\n",
       "      <td>NaN</td>\n",
       "      <td>-10000</td>\n",
       "    </tr>\n",
       "    <tr>\n",
       "      <th>1699</th>\n",
       "      <td>83</td>\n",
       "      <td>19</td>\n",
       "      <td>0.5691</td>\n",
       "      <td>ir provide complete filled</td>\n",
       "      <td>1</td>\n",
       "      <td>NaN</td>\n",
       "      <td>-10000</td>\n",
       "    </tr>\n",
       "  </tbody>\n",
       "</table>\n",
       "<p>1700 rows × 7 columns</p>\n",
       "</div>"
      ],
      "text/plain": [
       "      topic  rep_idx  rep_ctfidf                       rep_string  Count  \\\n",
       "0        -1        0      0.0964                physical document     11   \n",
       "1        -1        1      0.0964                         physical      1   \n",
       "2        -1        2      0.0959  remarks provide revised medical      1   \n",
       "3        -1        3      0.0959          remarks provide revised      1   \n",
       "4        -1        4      0.0938   provide revised medical agreed      1   \n",
       "...     ...      ...         ...                              ...    ...   \n",
       "1695     83       15      0.5975                            xerox      1   \n",
       "1696     83       16      0.5957                       ir provide      1   \n",
       "1697     83       17      0.5929              ir provide complete      1   \n",
       "1698     83       18      0.5871                               ir      1   \n",
       "1699     83       19      0.5691       ir provide complete filled      1   \n",
       "\n",
       "                                                 Action  ActionID  \n",
       "0                                                   NaN    -10000  \n",
       "1                                                   NaN    -10000  \n",
       "2     Ensure you have provided bill as per the agree...        59  \n",
       "3                                                   NaN    -10000  \n",
       "4     Ensure you have provided bill as per the agree...        59  \n",
       "...                                                 ...       ...  \n",
       "1695                                                NaN    -10000  \n",
       "1696                                                NaN    -10000  \n",
       "1697                                                NaN    -10000  \n",
       "1698                                                NaN    -10000  \n",
       "1699                                                NaN    -10000  \n",
       "\n",
       "[1700 rows x 7 columns]"
      ]
     },
     "execution_count": 9,
     "metadata": {},
     "output_type": "execute_result"
    }
   ],
   "source": [
    "expanded_topic_rep_df['ActionID'] = expanded_topic_rep_df['Action'].apply(get_action_index)\n",
    "expanded_topic_rep_df.astype({'ActionID': 'Int64'})"
   ]
  },
  {
   "cell_type": "code",
   "execution_count": 10,
   "metadata": {},
   "outputs": [],
   "source": [
    "ntopics = 84\n",
    "action_list = list(range(nactions))\n",
    "topic_list = list(range(0, ntopics))"
   ]
  },
  {
   "cell_type": "code",
   "execution_count": 11,
   "metadata": {},
   "outputs": [],
   "source": [
    "dict_list = []\n",
    "for topic_number in topic_list:\n",
    "    topic_action_array = np.array(expanded_topic_rep_df.loc[expanded_topic_rep_df['topic'] == topic_number]['ActionID'].to_list())\n",
    "    for action_number in action_list:\n",
    "        action_rep_map = np.where(topic_action_array==action_number)[0].tolist()\n",
    "        if (len(action_rep_map) > 0):\n",
    "            adict = {}\n",
    "            adict['ActionID'] = action_number\n",
    "            adict['TopicNumber'] = topic_number\n",
    "            adict['RepresentationList'] = action_rep_map\n",
    "            dict_list.append(adict)"
   ]
  },
  {
   "cell_type": "code",
   "execution_count": 12,
   "metadata": {},
   "outputs": [],
   "source": [
    "action_representation_map_df = pd.DataFrame(dict_list)"
   ]
  },
  {
   "cell_type": "code",
   "execution_count": 13,
   "metadata": {},
   "outputs": [],
   "source": [
    "action_representation_map_df.to_csv('action_representation_map.csv', index=False)"
   ]
  },
  {
   "cell_type": "code",
   "execution_count": 14,
   "metadata": {},
   "outputs": [
    {
     "data": {
      "text/html": [
       "<div>\n",
       "<style scoped>\n",
       "    .dataframe tbody tr th:only-of-type {\n",
       "        vertical-align: middle;\n",
       "    }\n",
       "\n",
       "    .dataframe tbody tr th {\n",
       "        vertical-align: top;\n",
       "    }\n",
       "\n",
       "    .dataframe thead th {\n",
       "        text-align: right;\n",
       "    }\n",
       "</style>\n",
       "<table border=\"1\" class=\"dataframe\">\n",
       "  <thead>\n",
       "    <tr style=\"text-align: right;\">\n",
       "      <th></th>\n",
       "      <th>ActionID</th>\n",
       "      <th>TopicNumber</th>\n",
       "      <th>RepresentationList</th>\n",
       "    </tr>\n",
       "  </thead>\n",
       "  <tbody>\n",
       "    <tr>\n",
       "      <th>0</th>\n",
       "      <td>26</td>\n",
       "      <td>0</td>\n",
       "      <td>[0, 1, 2, 3, 4, 6, 7, 8, 9, 10, 12, 14, 15, 18...</td>\n",
       "    </tr>\n",
       "    <tr>\n",
       "      <th>1</th>\n",
       "      <td>8</td>\n",
       "      <td>1</td>\n",
       "      <td>[0, 1, 2, 4, 5, 11, 19]</td>\n",
       "    </tr>\n",
       "    <tr>\n",
       "      <th>2</th>\n",
       "      <td>15</td>\n",
       "      <td>2</td>\n",
       "      <td>[8, 10, 13]</td>\n",
       "    </tr>\n",
       "    <tr>\n",
       "      <th>3</th>\n",
       "      <td>55</td>\n",
       "      <td>2</td>\n",
       "      <td>[1, 4, 9, 14]</td>\n",
       "    </tr>\n",
       "    <tr>\n",
       "      <th>4</th>\n",
       "      <td>4</td>\n",
       "      <td>3</td>\n",
       "      <td>[3, 4, 6, 7, 13, 19]</td>\n",
       "    </tr>\n",
       "    <tr>\n",
       "      <th>...</th>\n",
       "      <td>...</td>\n",
       "      <td>...</td>\n",
       "      <td>...</td>\n",
       "    </tr>\n",
       "    <tr>\n",
       "      <th>121</th>\n",
       "      <td>32</td>\n",
       "      <td>79</td>\n",
       "      <td>[4, 5, 6, 16, 19]</td>\n",
       "    </tr>\n",
       "    <tr>\n",
       "      <th>122</th>\n",
       "      <td>16</td>\n",
       "      <td>80</td>\n",
       "      <td>[0, 1, 2, 3, 5, 6, 7, 8, 9, 10, 11, 13, 17, 18]</td>\n",
       "    </tr>\n",
       "    <tr>\n",
       "      <th>123</th>\n",
       "      <td>11</td>\n",
       "      <td>81</td>\n",
       "      <td>[0, 1, 2, 3, 4, 5, 6, 7, 8, 10, 11, 12, 13, 14...</td>\n",
       "    </tr>\n",
       "    <tr>\n",
       "      <th>124</th>\n",
       "      <td>3</td>\n",
       "      <td>82</td>\n",
       "      <td>[0, 1, 2, 3, 4, 5, 6, 7, 8, 9, 10, 11, 13, 14,...</td>\n",
       "    </tr>\n",
       "    <tr>\n",
       "      <th>125</th>\n",
       "      <td>77</td>\n",
       "      <td>83</td>\n",
       "      <td>[0, 1, 4, 5, 6, 8, 9, 10, 11, 12]</td>\n",
       "    </tr>\n",
       "  </tbody>\n",
       "</table>\n",
       "<p>126 rows × 3 columns</p>\n",
       "</div>"
      ],
      "text/plain": [
       "     ActionID  TopicNumber                                 RepresentationList\n",
       "0          26            0  [0, 1, 2, 3, 4, 6, 7, 8, 9, 10, 12, 14, 15, 18...\n",
       "1           8            1                            [0, 1, 2, 4, 5, 11, 19]\n",
       "2          15            2                                        [8, 10, 13]\n",
       "3          55            2                                      [1, 4, 9, 14]\n",
       "4           4            3                               [3, 4, 6, 7, 13, 19]\n",
       "..        ...          ...                                                ...\n",
       "121        32           79                                  [4, 5, 6, 16, 19]\n",
       "122        16           80    [0, 1, 2, 3, 5, 6, 7, 8, 9, 10, 11, 13, 17, 18]\n",
       "123        11           81  [0, 1, 2, 3, 4, 5, 6, 7, 8, 10, 11, 12, 13, 14...\n",
       "124         3           82  [0, 1, 2, 3, 4, 5, 6, 7, 8, 9, 10, 11, 13, 14,...\n",
       "125        77           83                  [0, 1, 4, 5, 6, 8, 9, 10, 11, 12]\n",
       "\n",
       "[126 rows x 3 columns]"
      ]
     },
     "execution_count": 14,
     "metadata": {},
     "output_type": "execute_result"
    }
   ],
   "source": [
    "action_representation_map_df"
   ]
  },
  {
   "cell_type": "code",
   "execution_count": 15,
   "metadata": {},
   "outputs": [
    {
     "data": {
      "text/plain": [
       "78"
      ]
     },
     "execution_count": 15,
     "metadata": {},
     "output_type": "execute_result"
    }
   ],
   "source": [
    "nactions"
   ]
  },
  {
   "cell_type": "code",
   "execution_count": null,
   "metadata": {},
   "outputs": [],
   "source": []
  }
 ],
 "metadata": {
  "kernelspec": {
   "display_name": "bertopic",
   "language": "python",
   "name": "python3"
  },
  "language_info": {
   "codemirror_mode": {
    "name": "ipython",
    "version": 3
   },
   "file_extension": ".py",
   "mimetype": "text/x-python",
   "name": "python",
   "nbconvert_exporter": "python",
   "pygments_lexer": "ipython3",
   "version": "3.8.17"
  },
  "orig_nbformat": 4
 },
 "nbformat": 4,
 "nbformat_minor": 2
}
