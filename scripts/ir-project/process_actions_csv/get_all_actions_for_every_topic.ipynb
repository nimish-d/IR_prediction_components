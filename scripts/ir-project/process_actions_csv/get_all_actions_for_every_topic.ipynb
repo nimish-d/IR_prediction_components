{
 "cells": [
  {
   "cell_type": "code",
   "execution_count": 123,
   "metadata": {},
   "outputs": [],
   "source": [
    "import numpy as np\n",
    "import pandas as pd"
   ]
  },
  {
   "cell_type": "code",
   "execution_count": 99,
   "metadata": {},
   "outputs": [],
   "source": [
    "topic_action_df = pd.read_csv('topic_actions_list.csv')"
   ]
  },
  {
   "cell_type": "code",
   "execution_count": 100,
   "metadata": {},
   "outputs": [],
   "source": [
    "topic_action_df['CleanedAction'] = topic_action_df['Asked info or doc'].apply(lambda x: str(x).lower())"
   ]
  },
  {
   "cell_type": "code",
   "execution_count": 101,
   "metadata": {},
   "outputs": [],
   "source": [
    "index_to_action_df = pd.read_csv('index_to_action_lookup.csv')"
   ]
  },
  {
   "cell_type": "code",
   "execution_count": 102,
   "metadata": {},
   "outputs": [],
   "source": [
    "merged_df = pd.merge(topic_action_df, index_to_action_df, left_on='CleanedAction', right_on='Action')"
   ]
  },
  {
   "cell_type": "code",
   "execution_count": 103,
   "metadata": {},
   "outputs": [],
   "source": [
    "topic_action_new = pd.DataFrame(merged_df.loc[:, ['Topic', 'Action ID']].groupby('Topic')['Action ID'].apply(list)).reset_index()\n",
    "topic_action_new = topic_action_new[topic_action_new['Topic'] > -1]\n",
    "topic_action_new.reset_index(drop=True, inplace=True)\n",
    "topic_action_new.rename(columns={'Action ID': 'ActionIDs_adhoc'}, inplace=True)"
   ]
  },
  {
   "cell_type": "code",
   "execution_count": 104,
   "metadata": {},
   "outputs": [],
   "source": [
    "action_representation_map = pd.read_csv('./action_representation_map.csv')"
   ]
  },
  {
   "cell_type": "code",
   "execution_count": 105,
   "metadata": {},
   "outputs": [],
   "source": [
    "topic_action_model = pd.DataFrame(action_representation_map.loc[:, ['TopicNumber', 'ActionID']].groupby('TopicNumber')['ActionID'].apply(list)).reset_index()"
   ]
  },
  {
   "cell_type": "code",
   "execution_count": 106,
   "metadata": {},
   "outputs": [],
   "source": [
    "topic_action_model.to_csv('topic_action_model.csv')\n",
    "topic_action_new.to_csv('topic_action_new.csv')"
   ]
  },
  {
   "cell_type": "code",
   "execution_count": 107,
   "metadata": {},
   "outputs": [],
   "source": [
    "topic_action_model.rename(columns={'ActionID': 'ActionIDs_model'}, inplace=True)"
   ]
  },
  {
   "cell_type": "code",
   "execution_count": 108,
   "metadata": {},
   "outputs": [
    {
     "data": {
      "text/html": [
       "<div>\n",
       "<style scoped>\n",
       "    .dataframe tbody tr th:only-of-type {\n",
       "        vertical-align: middle;\n",
       "    }\n",
       "\n",
       "    .dataframe tbody tr th {\n",
       "        vertical-align: top;\n",
       "    }\n",
       "\n",
       "    .dataframe thead th {\n",
       "        text-align: right;\n",
       "    }\n",
       "</style>\n",
       "<table border=\"1\" class=\"dataframe\">\n",
       "  <thead>\n",
       "    <tr style=\"text-align: right;\">\n",
       "      <th></th>\n",
       "      <th>TopicNumber</th>\n",
       "      <th>ActionIDs_model</th>\n",
       "    </tr>\n",
       "  </thead>\n",
       "  <tbody>\n",
       "    <tr>\n",
       "      <th>0</th>\n",
       "      <td>0</td>\n",
       "      <td>[26]</td>\n",
       "    </tr>\n",
       "    <tr>\n",
       "      <th>1</th>\n",
       "      <td>1</td>\n",
       "      <td>[8]</td>\n",
       "    </tr>\n",
       "    <tr>\n",
       "      <th>2</th>\n",
       "      <td>2</td>\n",
       "      <td>[15, 55]</td>\n",
       "    </tr>\n",
       "    <tr>\n",
       "      <th>3</th>\n",
       "      <td>3</td>\n",
       "      <td>[4, 30, 56]</td>\n",
       "    </tr>\n",
       "    <tr>\n",
       "      <th>4</th>\n",
       "      <td>4</td>\n",
       "      <td>[57, 58]</td>\n",
       "    </tr>\n",
       "    <tr>\n",
       "      <th>...</th>\n",
       "      <td>...</td>\n",
       "      <td>...</td>\n",
       "    </tr>\n",
       "    <tr>\n",
       "      <th>72</th>\n",
       "      <td>79</td>\n",
       "      <td>[0, 32]</td>\n",
       "    </tr>\n",
       "    <tr>\n",
       "      <th>73</th>\n",
       "      <td>80</td>\n",
       "      <td>[16]</td>\n",
       "    </tr>\n",
       "    <tr>\n",
       "      <th>74</th>\n",
       "      <td>81</td>\n",
       "      <td>[11]</td>\n",
       "    </tr>\n",
       "    <tr>\n",
       "      <th>75</th>\n",
       "      <td>82</td>\n",
       "      <td>[3]</td>\n",
       "    </tr>\n",
       "    <tr>\n",
       "      <th>76</th>\n",
       "      <td>83</td>\n",
       "      <td>[77]</td>\n",
       "    </tr>\n",
       "  </tbody>\n",
       "</table>\n",
       "<p>77 rows × 2 columns</p>\n",
       "</div>"
      ],
      "text/plain": [
       "    TopicNumber ActionIDs_model\n",
       "0             0            [26]\n",
       "1             1             [8]\n",
       "2             2        [15, 55]\n",
       "3             3     [4, 30, 56]\n",
       "4             4        [57, 58]\n",
       "..          ...             ...\n",
       "72           79         [0, 32]\n",
       "73           80            [16]\n",
       "74           81            [11]\n",
       "75           82             [3]\n",
       "76           83            [77]\n",
       "\n",
       "[77 rows x 2 columns]"
      ]
     },
     "execution_count": 108,
     "metadata": {},
     "output_type": "execute_result"
    }
   ],
   "source": [
    "topic_action_model"
   ]
  },
  {
   "cell_type": "code",
   "execution_count": 109,
   "metadata": {},
   "outputs": [],
   "source": [
    "comparison_df = pd.merge(topic_action_new, topic_action_model, left_on='Topic', right_on='TopicNumber').drop(columns=['TopicNumber'])"
   ]
  },
  {
   "cell_type": "code",
   "execution_count": 110,
   "metadata": {},
   "outputs": [],
   "source": [
    "comparison_df['len_adhoc_actions'] = comparison_df.apply(lambda x: len(set(x['ActionIDs_adhoc'])), axis=1)\n",
    "comparison_df['len_model_actions'] = comparison_df.apply(lambda x: len(set(x['ActionIDs_model'])), axis=1)\n",
    "comparison_df['model_is_subset_adhoc'] = comparison_df.apply(lambda x: set(x['ActionIDs_model']).issubset(set(x['ActionIDs_adhoc'])), axis=1)\n",
    "comparison_df['actions_adhoc_minus_model'] = comparison_df.apply(lambda x: set(x['ActionIDs_adhoc']).difference(set(x['ActionIDs_model'])), axis=1)"
   ]
  },
  {
   "cell_type": "code",
   "execution_count": 111,
   "metadata": {},
   "outputs": [
    {
     "data": {
      "text/plain": [
       "126"
      ]
     },
     "execution_count": 111,
     "metadata": {},
     "output_type": "execute_result"
    }
   ],
   "source": [
    "comparison_df['len_model_actions'].sum()"
   ]
  },
  {
   "cell_type": "code",
   "execution_count": 112,
   "metadata": {},
   "outputs": [],
   "source": [
    "comparison_df.to_csv('topic_wise_action_adhoc_vs_model.csv', index=False)"
   ]
  },
  {
   "cell_type": "code",
   "execution_count": 190,
   "metadata": {},
   "outputs": [
    {
     "name": "stdout",
     "output_type": "stream",
     "text": [
      "0 set()\n",
      "1 set()\n",
      "2 {8, 26, 14}\n",
      "3 {8}\n",
      "4 set()\n",
      "5 set()\n",
      "6 {8}\n",
      "7 {0, 1, 3, 5}\n",
      "8 set()\n",
      "9 set()\n",
      "10 set()\n",
      "11 {62}\n",
      "12 {0, 1, 2, 4, 29, 63}\n",
      "13 set()\n",
      "14 set()\n",
      "15 set()\n",
      "16 {9}\n",
      "17 set()\n",
      "18 set()\n",
      "19 {8}\n",
      "20 {0, 1, 2, 65, 68, 5, 6}\n",
      "22 {6}\n",
      "23 {10, 3, 30}\n",
      "24 {69}\n",
      "25 set()\n",
      "26 {72, 10, 52}\n",
      "27 set()\n",
      "28 set()\n",
      "29 set()\n",
      "30 {20}\n",
      "31 {76}\n",
      "32 {9}\n",
      "33 set()\n",
      "34 set()\n",
      "35 set()\n",
      "36 {4, 12}\n",
      "37 set()\n",
      "38 set()\n",
      "39 {18, 4, 6}\n",
      "40 {3}\n",
      "41 set()\n",
      "43 {3, 4, 5, 6}\n",
      "44 set()\n",
      "46 set()\n",
      "47 set()\n",
      "48 set()\n",
      "49 {3}\n",
      "51 set()\n",
      "52 {0, 1, 2, 4, 5, 6, 12}\n",
      "53 {2, 4, 6}\n",
      "55 set()\n",
      "56 {4, 45, 6}\n",
      "57 {0, 4, 20}\n",
      "59 {0, 2, 4}\n",
      "61 set()\n",
      "62 {3}\n",
      "63 {0, 1, 2, 5, 47, 49}\n",
      "64 {2, 6}\n",
      "65 {8, 9}\n",
      "66 set()\n",
      "67 {3}\n",
      "68 {0, 2}\n",
      "69 set()\n",
      "70 {1, 2, 4, 5, 6}\n",
      "71 {0, 1, 4, 5, 6}\n",
      "72 {1, 2, 4, 5, 6}\n",
      "73 set()\n",
      "74 {0, 2, 5, 6, 24}\n",
      "75 set()\n",
      "76 set()\n",
      "77 {1, 2, 3, 4, 5, 6, 25}\n",
      "78 set()\n",
      "79 {1, 2, 5, 6}\n",
      "80 set()\n",
      "81 set()\n",
      "82 set()\n",
      "83 set()\n"
     ]
    }
   ],
   "source": [
    "nactions = 78\n",
    "ntopics = 84\n",
    "action_topic_probability_adhoc = np.zeros([nactions, ntopics])\n",
    "for i in range(len(comparison_df)):\n",
    "    topic_id = comparison_df.iloc[i]['Topic']\n",
    "    actions_id_set = comparison_df.iloc[i]['actions_adhoc_minus_model']\n",
    "    print(topic_id, actions_id_set)\n",
    "    for i in actions_id_set:\n",
    "        action_topic_probability_adhoc[i, topic_id] = 1.0\n",
    "\n",
    "action_topic_probability_adhoc_sum = action_topic_probability_adhoc.sum(axis=0)\n",
    "action_topic_probability_adhoc_sum[action_topic_probability_adhoc_sum < 0.1e-5] = 1.0\n",
    "action_topic_probability_adhoc = action_topic_probability_adhoc / action_topic_probability_adhoc_sum[None, :]"
   ]
  },
  {
   "cell_type": "code",
   "execution_count": 191,
   "metadata": {},
   "outputs": [
    {
     "data": {
      "text/plain": [
       "37.99999999999999"
      ]
     },
     "execution_count": 191,
     "metadata": {},
     "output_type": "execute_result"
    }
   ],
   "source": [
    "action_topic_probability_adhoc.sum()"
   ]
  },
  {
   "cell_type": "code",
   "execution_count": 200,
   "metadata": {},
   "outputs": [
    {
     "data": {
      "text/plain": [
       "array([0., 0., 1., 1., 0., 0., 1., 1., 0., 0., 0., 1., 1., 0., 0., 0., 1.,\n",
       "       0., 0., 1., 1., 0., 1., 1., 1., 0., 1., 0., 0., 0., 1., 1., 1., 0.,\n",
       "       0., 0., 1., 0., 0., 1., 1., 0., 0., 1., 0., 0., 0., 0., 0., 1., 0.,\n",
       "       0., 1., 1., 0., 0., 1., 1., 0., 1., 0., 0., 1., 1., 1., 1., 0., 1.,\n",
       "       1., 0., 1., 1., 1., 0., 1., 0., 0., 1., 0., 1., 0., 0., 0., 0.])"
      ]
     },
     "execution_count": 200,
     "metadata": {},
     "output_type": "execute_result"
    }
   ],
   "source": [
    "action_topic_probability_adhoc.sum(axis=0)"
   ]
  },
  {
   "cell_type": "code",
   "execution_count": 208,
   "metadata": {},
   "outputs": [
    {
     "data": {
      "text/plain": [
       "38"
      ]
     },
     "execution_count": 208,
     "metadata": {},
     "output_type": "execute_result"
    }
   ],
   "source": [
    "comparison_df['actions_adhoc_minus_model'].apply(lambda x: len(x) > 0).sum()"
   ]
  },
  {
   "cell_type": "code",
   "execution_count": 209,
   "metadata": {},
   "outputs": [],
   "source": [
    "np.save('action_probability_adhoc.npy', action_topic_probability_adhoc)"
   ]
  },
  {
   "cell_type": "code",
   "execution_count": null,
   "metadata": {},
   "outputs": [],
   "source": []
  }
 ],
 "metadata": {
  "kernelspec": {
   "display_name": "bertopic",
   "language": "python",
   "name": "python3"
  },
  "language_info": {
   "codemirror_mode": {
    "name": "ipython",
    "version": 3
   },
   "file_extension": ".py",
   "mimetype": "text/x-python",
   "name": "python",
   "nbconvert_exporter": "python",
   "pygments_lexer": "ipython3",
   "version": "3.8.17"
  },
  "orig_nbformat": 4
 },
 "nbformat": 4,
 "nbformat_minor": 2
}
