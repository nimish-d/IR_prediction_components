{
 "cells": [
  {
   "cell_type": "code",
   "execution_count": 1,
   "metadata": {},
   "outputs": [],
   "source": [
    "import numpy as np\n",
    "import pandas as pd\n",
    "# from bertopic import BERTopic"
   ]
  },
  {
   "cell_type": "markdown",
   "metadata": {},
   "source": [
    "### Create a dummy `topic_representations_` list"
   ]
  },
  {
   "cell_type": "code",
   "execution_count": 2,
   "metadata": {},
   "outputs": [],
   "source": [
    "topic_list = list(range(-1,7))\n",
    "nreps = 9\n",
    "nactions = 8\n",
    "ntopics = topic_list[-1] + 1"
   ]
  },
  {
   "cell_type": "code",
   "execution_count": 3,
   "metadata": {},
   "outputs": [],
   "source": [
    "def ctfidf(t, s, ntopics, nreps):\n",
    "    alpha = 0.5\n",
    "    gamma = 0.3\n",
    "    c = 0.1\n",
    "    # ret_val = alpha * (ntopics - t) + gamma * (nreps/ (s+1)) + c\n",
    "    ret_val = s\n",
    "    return ret_val"
   ]
  },
  {
   "cell_type": "code",
   "execution_count": 4,
   "metadata": {},
   "outputs": [],
   "source": [
    "representation_dict = {}\n",
    "for t in topic_list:\n",
    "    alist = []\n",
    "    for rep in range(nreps):\n",
    "        string = f'topic_{str(t)}_string_{str(rep)}'\n",
    "        ctfidf_score = ctfidf(t, rep, ntopics, nreps)\n",
    "        alist.append((string, ctfidf_score))\n",
    "    representation_dict[t] = alist"
   ]
  },
  {
   "cell_type": "code",
   "execution_count": 5,
   "metadata": {},
   "outputs": [
    {
     "data": {
      "text/plain": [
       "{-1: [('topic_-1_string_0', 0),\n",
       "  ('topic_-1_string_1', 1),\n",
       "  ('topic_-1_string_2', 2),\n",
       "  ('topic_-1_string_3', 3),\n",
       "  ('topic_-1_string_4', 4),\n",
       "  ('topic_-1_string_5', 5),\n",
       "  ('topic_-1_string_6', 6),\n",
       "  ('topic_-1_string_7', 7),\n",
       "  ('topic_-1_string_8', 8)],\n",
       " 0: [('topic_0_string_0', 0),\n",
       "  ('topic_0_string_1', 1),\n",
       "  ('topic_0_string_2', 2),\n",
       "  ('topic_0_string_3', 3),\n",
       "  ('topic_0_string_4', 4),\n",
       "  ('topic_0_string_5', 5),\n",
       "  ('topic_0_string_6', 6),\n",
       "  ('topic_0_string_7', 7),\n",
       "  ('topic_0_string_8', 8)],\n",
       " 1: [('topic_1_string_0', 0),\n",
       "  ('topic_1_string_1', 1),\n",
       "  ('topic_1_string_2', 2),\n",
       "  ('topic_1_string_3', 3),\n",
       "  ('topic_1_string_4', 4),\n",
       "  ('topic_1_string_5', 5),\n",
       "  ('topic_1_string_6', 6),\n",
       "  ('topic_1_string_7', 7),\n",
       "  ('topic_1_string_8', 8)],\n",
       " 2: [('topic_2_string_0', 0),\n",
       "  ('topic_2_string_1', 1),\n",
       "  ('topic_2_string_2', 2),\n",
       "  ('topic_2_string_3', 3),\n",
       "  ('topic_2_string_4', 4),\n",
       "  ('topic_2_string_5', 5),\n",
       "  ('topic_2_string_6', 6),\n",
       "  ('topic_2_string_7', 7),\n",
       "  ('topic_2_string_8', 8)],\n",
       " 3: [('topic_3_string_0', 0),\n",
       "  ('topic_3_string_1', 1),\n",
       "  ('topic_3_string_2', 2),\n",
       "  ('topic_3_string_3', 3),\n",
       "  ('topic_3_string_4', 4),\n",
       "  ('topic_3_string_5', 5),\n",
       "  ('topic_3_string_6', 6),\n",
       "  ('topic_3_string_7', 7),\n",
       "  ('topic_3_string_8', 8)],\n",
       " 4: [('topic_4_string_0', 0),\n",
       "  ('topic_4_string_1', 1),\n",
       "  ('topic_4_string_2', 2),\n",
       "  ('topic_4_string_3', 3),\n",
       "  ('topic_4_string_4', 4),\n",
       "  ('topic_4_string_5', 5),\n",
       "  ('topic_4_string_6', 6),\n",
       "  ('topic_4_string_7', 7),\n",
       "  ('topic_4_string_8', 8)],\n",
       " 5: [('topic_5_string_0', 0),\n",
       "  ('topic_5_string_1', 1),\n",
       "  ('topic_5_string_2', 2),\n",
       "  ('topic_5_string_3', 3),\n",
       "  ('topic_5_string_4', 4),\n",
       "  ('topic_5_string_5', 5),\n",
       "  ('topic_5_string_6', 6),\n",
       "  ('topic_5_string_7', 7),\n",
       "  ('topic_5_string_8', 8)],\n",
       " 6: [('topic_6_string_0', 0),\n",
       "  ('topic_6_string_1', 1),\n",
       "  ('topic_6_string_2', 2),\n",
       "  ('topic_6_string_3', 3),\n",
       "  ('topic_6_string_4', 4),\n",
       "  ('topic_6_string_5', 5),\n",
       "  ('topic_6_string_6', 6),\n",
       "  ('topic_6_string_7', 7),\n",
       "  ('topic_6_string_8', 8)]}"
      ]
     },
     "execution_count": 5,
     "metadata": {},
     "output_type": "execute_result"
    }
   ],
   "source": [
    "import pickle\n",
    "with open('representation_dictionary.pickle' ,'wb') as handle:\n",
    "    pickle.dump(representation_dict, handle, protocol=pickle.HIGHEST_PROTOCOL)\n",
    "representation_dict"
   ]
  },
  {
   "cell_type": "code",
   "execution_count": 6,
   "metadata": {},
   "outputs": [],
   "source": [
    "action_representation_map_df = pd.read_csv('action_representation_map.csv')"
   ]
  },
  {
   "cell_type": "code",
   "execution_count": 7,
   "metadata": {},
   "outputs": [],
   "source": [
    "# collect the ctfidf values of all the representations for every topic into\n",
    "# a 2d list\n",
    "# array shape: number of topics x number of representations per topic\n",
    "ctfidf_topic_rep = np.zeros([ntopics, nreps])\n",
    "for topic_no in range(ntopics):\n",
    "    ctfidf_topic_rep[topic_no, :] = np.array([representation_dict[topic_no][k][1] for k in range(nreps)])"
   ]
  },
  {
   "cell_type": "code",
   "execution_count": 8,
   "metadata": {},
   "outputs": [],
   "source": [
    "action_topic_wise_ctfidf3d = np.repeat(ctfidf_topic_rep[np.newaxis, :, :], nactions, axis=0)"
   ]
  },
  {
   "cell_type": "code",
   "execution_count": 9,
   "metadata": {},
   "outputs": [
    {
     "data": {
      "text/plain": [
       "(8, 7, 9)"
      ]
     },
     "execution_count": 9,
     "metadata": {},
     "output_type": "execute_result"
    }
   ],
   "source": [
    "action_topic_wise_ctfidf3d.shape"
   ]
  },
  {
   "cell_type": "code",
   "execution_count": 10,
   "metadata": {},
   "outputs": [],
   "source": [
    "selection_matrix = np.zeros([nactions, ntopics, nreps])\n",
    "for i in range(len(action_representation_map_df)):\n",
    "        adict = action_representation_map_df.iloc[i].to_dict()\n",
    "        action_id = adict['ActionID']\n",
    "        topic_number = adict['TopicNumber']\n",
    "        unmask_indices = eval(adict['RepresentationList'])\n",
    "        selection_matrix[action_id, topic_number, unmask_indices] = 1\n",
    "        # print(action_id, topic_number, unmask_indices)"
   ]
  },
  {
   "cell_type": "code",
   "execution_count": 11,
   "metadata": {},
   "outputs": [],
   "source": [
    "res = selection_matrix * action_topic_wise_ctfidf3d"
   ]
  },
  {
   "cell_type": "code",
   "execution_count": 12,
   "metadata": {},
   "outputs": [
    {
     "data": {
      "text/plain": [
       "array([[0., 0., 0., 0., 0., 0., 0., 0., 0.],\n",
       "       [0., 0., 0., 0., 0., 0., 0., 0., 0.],\n",
       "       [0., 0., 0., 0., 0., 0., 0., 0., 0.],\n",
       "       [0., 0., 0., 0., 0., 5., 6., 7., 8.],\n",
       "       [0., 1., 2., 3., 4., 0., 0., 0., 0.],\n",
       "       [0., 0., 0., 0., 0., 0., 0., 0., 0.],\n",
       "       [0., 0., 0., 0., 0., 0., 0., 0., 0.]])"
      ]
     },
     "execution_count": 12,
     "metadata": {},
     "output_type": "execute_result"
    }
   ],
   "source": [
    "np.round(res[4], 2)"
   ]
  },
  {
   "cell_type": "code",
   "execution_count": 13,
   "metadata": {},
   "outputs": [],
   "source": [
    "# np.round(action_topic_wise_ctfidf3d[1], 2)"
   ]
  },
  {
   "cell_type": "code",
   "execution_count": 14,
   "metadata": {},
   "outputs": [],
   "source": [
    "def softmax2d(anarray):\n",
    "    '''\n",
    "    argument: a 2d array of numbers\n",
    "    returns: softmax probability distribution.\n",
    "             The calculation is performed column-wise.\n",
    "    '''\n",
    "    exp_array = np.exp(anarray)\n",
    "    normalization_array = np.sum(exp_array, axis=0)\n",
    "    return exp_array / normalization_array[:]"
   ]
  },
  {
   "cell_type": "code",
   "execution_count": 15,
   "metadata": {},
   "outputs": [],
   "source": [
    "topic_action_ctfidf_sum = np.sum(res, axis=2)\n",
    "topic_action_probability = softmax2d(topic_action_ctfidf_sum)"
   ]
  },
  {
   "cell_type": "code",
   "execution_count": 16,
   "metadata": {},
   "outputs": [
    {
     "data": {
      "text/plain": [
       "array([[10.,  0.,  0.,  0.,  0.,  0.,  0.],\n",
       "       [26., 10.,  0.,  0.,  0.,  0.,  0.],\n",
       "       [ 0., 26., 10.,  0.,  0.,  0.,  0.],\n",
       "       [ 0.,  0., 26., 10.,  0.,  0.,  0.],\n",
       "       [ 0.,  0.,  0., 26., 10.,  0.,  0.],\n",
       "       [ 0.,  0.,  0.,  0., 26., 10.,  0.],\n",
       "       [ 0.,  0.,  0.,  0.,  0., 26., 10.],\n",
       "       [ 0.,  0.,  0.,  0.,  0.,  0., 26.]])"
      ]
     },
     "execution_count": 16,
     "metadata": {},
     "output_type": "execute_result"
    }
   ],
   "source": [
    "np.round(topic_action_ctfidf_sum,2)"
   ]
  },
  {
   "cell_type": "code",
   "execution_count": 17,
   "metadata": {},
   "outputs": [
    {
     "data": {
      "text/plain": [
       "array([[0., 0., 0., 0., 0., 0., 0.],\n",
       "       [1., 0., 0., 0., 0., 0., 0.],\n",
       "       [0., 1., 0., 0., 0., 0., 0.],\n",
       "       [0., 0., 1., 0., 0., 0., 0.],\n",
       "       [0., 0., 0., 1., 0., 0., 0.],\n",
       "       [0., 0., 0., 0., 1., 0., 0.],\n",
       "       [0., 0., 0., 0., 0., 1., 0.],\n",
       "       [0., 0., 0., 0., 0., 0., 1.]])"
      ]
     },
     "execution_count": 17,
     "metadata": {},
     "output_type": "execute_result"
    }
   ],
   "source": [
    "np.round(topic_action_probability, 3)"
   ]
  }
 ],
 "metadata": {
  "kernelspec": {
   "display_name": "bertopic",
   "language": "python",
   "name": "python3"
  },
  "language_info": {
   "codemirror_mode": {
    "name": "ipython",
    "version": 3
   },
   "file_extension": ".py",
   "mimetype": "text/x-python",
   "name": "python",
   "nbconvert_exporter": "python",
   "pygments_lexer": "ipython3",
   "version": "3.8.17"
  },
  "orig_nbformat": 4
 },
 "nbformat": 4,
 "nbformat_minor": 2
}
